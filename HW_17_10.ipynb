{
  "nbformat": 4,
  "nbformat_minor": 0,
  "metadata": {
    "colab": {
      "provenance": []
    },
    "kernelspec": {
      "name": "python3",
      "display_name": "Python 3"
    },
    "language_info": {
      "name": "python"
    }
  },
  "cells": [
    {
      "cell_type": "code",
      "source": [
        "def longest_proper_prefix_suffix(s: str) -> str:\n",
        "    n = len(s)\n",
        "\n",
        "    for length in range(n - 1, 0, -1):\n",
        "        prefix = s[0:length]\n",
        "\n",
        "        suffix = s[n - length:n]\n",
        "\n",
        "        if prefix == suffix:\n",
        "            return prefix\n",
        "\n",
        "    return ''"
      ],
      "metadata": {
        "id": "YfFuCPZVgsVF"
      },
      "execution_count": 1,
      "outputs": []
    },
    {
      "cell_type": "code",
      "source": [
        "# тест\n",
        "print(f\"'abcde' -> '{longest_proper_prefix_suffix(\"abcde\")}'\")\n",
        "print(f\"'nanana' -> '{longest_proper_prefix_suffix(\"nanana\")}'\")\n",
        "print(f\"'peepeepoopoo' -> '{longest_proper_prefix_suffix(\"peepeepoopoo\")}'\")\n",
        "print(f\"'q' -> '{longest_proper_prefix_suffix(\"q\")}'\")\n",
        "print(f\"'kkqkk' -> '{longest_proper_prefix_suffix(\"kkqkk\")}'\")"
      ],
      "metadata": {
        "colab": {
          "base_uri": "https://localhost:8080/"
        },
        "id": "ksLjBJYZgynh",
        "outputId": "7633f038-c3c3-467a-f695-52d7d459d10f"
      },
      "execution_count": 2,
      "outputs": [
        {
          "output_type": "stream",
          "name": "stdout",
          "text": [
            "'abcde' -> ''\n",
            "'nanana' -> 'nana'\n",
            "'peepeepoopoo' -> ''\n",
            "'q' -> ''\n",
            "'kkqkk' -> 'kk'\n"
          ]
        }
      ]
    }
  ]
}